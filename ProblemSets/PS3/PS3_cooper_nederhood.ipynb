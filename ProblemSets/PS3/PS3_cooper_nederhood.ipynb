{
 "cells": [
  {
   "cell_type": "code",
   "execution_count": 1,
   "metadata": {},
   "outputs": [
    {
     "name": "stderr",
     "output_type": "stream",
     "text": [
      "/home/cooper/anaconda3/lib/python3.6/site-packages/h5py/__init__.py:36: FutureWarning: Conversion of the second argument of issubdtype from `float` to `np.floating` is deprecated. In future, it will be treated as `np.float64 == np.dtype(float).type`.\n",
      "  from ._conv import register_converters as _register_converters\n",
      "Using TensorFlow backend.\n"
     ]
    }
   ],
   "source": [
    "from keras.datasets import mnist"
   ]
  },
  {
   "cell_type": "code",
   "execution_count": 79,
   "metadata": {},
   "outputs": [],
   "source": [
    "from keras import models\n",
    "from keras import layers\n",
    "from keras.utils import to_categorical\n",
    "from matplotlib import pyplot as plt\n",
    "import numpy as np\n",
    "from keras.regularizers import l2, l1"
   ]
  },
  {
   "cell_type": "markdown",
   "metadata": {},
   "source": [
    "# Part 1: Image classification"
   ]
  },
  {
   "cell_type": "markdown",
   "metadata": {},
   "source": [
    "### i. Initial test"
   ]
  },
  {
   "cell_type": "code",
   "execution_count": 80,
   "metadata": {},
   "outputs": [
    {
     "data": {
      "text/plain": [
       "'\\ntrain_images = train_images[0:N, :, :]\\ntest_images = test_images[0:N, :, :]\\ntest_labels = test_labels[0:N]\\ntrain_labels = train_labels[0:N]\\n'"
      ]
     },
     "execution_count": 80,
     "metadata": {},
     "output_type": "execute_result"
    }
   ],
   "source": [
    "(train_images, train_labels), (test_images, test_labels) = mnist.load_data()\n",
    "\n",
    "train_labels = to_categorical(train_labels)\n",
    "test_labels = to_categorical(test_labels)\n",
    "\n",
    "N = 100\n",
    "#batchsize = 512\n",
    "#epochs = 200\n",
    "batchsize = 10\n",
    "epoch_count = 5\n",
    "\n",
    "split1 = 1/6\n",
    "\n",
    "'''\n",
    "train_images = train_images[0:N, :, :]\n",
    "test_images = test_images[0:N, :, :]\n",
    "test_labels = test_labels[0:N]\n",
    "train_labels = train_labels[0:N]\n",
    "'''"
   ]
  },
  {
   "cell_type": "code",
   "execution_count": 81,
   "metadata": {},
   "outputs": [
    {
     "name": "stdout",
     "output_type": "stream",
     "text": [
      "<keras.models.Sequential object at 0x7fe61f96eba8>\n"
     ]
    }
   ],
   "source": [
    "# build artchicture\n",
    "network = models.Sequential()\n",
    "network.add(layers.Dense(512, activation='relu', input_shape=(28 * 28,)))\n",
    "'''\n",
    "network.add(layers.Dense(512, activation='relu'))\n",
    "network.add(layers.Dense(512, activation='relu'))\n",
    "network.add(layers.Dense(512, activation='relu'))\n",
    "'''\n",
    "network.add(layers.Dense(10, activation='softmax'))\n",
    "\n",
    "# prepare images\n",
    "\n",
    "train_images = train_images.reshape( (60000, 28 * 28) )\n",
    "train_images = train_images.astype('float32') / 255\n",
    "\n",
    "test_images = test_images.reshape( (10000, 28 * 28) )\n",
    "test_images = test_images.astype('float32') / 255\n",
    "\n",
    "print(network)"
   ]
  },
  {
   "cell_type": "code",
   "execution_count": 92,
   "metadata": {},
   "outputs": [
    {
     "name": "stdout",
     "output_type": "stream",
     "text": [
      "Train on 50000 samples, validate on 10000 samples\n",
      "Epoch 1/5\n",
      "50000/50000 [==============================] - 39s 771us/step - loss: 0.0632 - acc: 0.9883 - val_loss: 0.1405 - val_acc: 0.9765\n",
      "Epoch 2/5\n",
      "50000/50000 [==============================] - 38s 753us/step - loss: 0.0537 - acc: 0.9903 - val_loss: 0.1544 - val_acc: 0.9774\n",
      "Epoch 3/5\n",
      "50000/50000 [==============================] - 38s 758us/step - loss: 0.0491 - acc: 0.9913 - val_loss: 0.1504 - val_acc: 0.9786\n",
      "Epoch 4/5\n",
      "50000/50000 [==============================] - 47s 939us/step - loss: 0.0409 - acc: 0.9926 - val_loss: 0.1522 - val_acc: 0.9777\n",
      "Epoch 5/5\n",
      "50000/50000 [==============================] - 38s 764us/step - loss: 0.0382 - acc: 0.9934 - val_loss: 0.1532 - val_acc: 0.9782\n"
     ]
    }
   ],
   "source": [
    "# compile and train\n",
    "network.compile(optimizer='rmsprop', loss='categorical_crossentropy', metrics=['acc'])\n",
    "fit = network.fit(train_images, train_labels, epochs=epoch_count, batch_size=batchsize, validation_split=split1)"
   ]
  },
  {
   "cell_type": "code",
   "execution_count": 93,
   "metadata": {},
   "outputs": [
    {
     "data": {
      "text/plain": [
       "dict_keys(['val_loss', 'val_acc', 'loss', 'acc'])"
      ]
     },
     "execution_count": 93,
     "metadata": {},
     "output_type": "execute_result"
    }
   ],
   "source": [
    "fit.history.keys()"
   ]
  },
  {
   "cell_type": "code",
   "execution_count": 56,
   "metadata": {},
   "outputs": [
    {
     "data": {
      "text/plain": [
       "Text(0.5,1,'Training accuracy by epoch')"
      ]
     },
     "execution_count": 56,
     "metadata": {},
     "output_type": "execute_result"
    },
    {
     "data": {
      "image/png": "[encoded data removed]",
      "text/plain": [
       "<matplotlib.figure.Figure at 0x7fe5cf64f978>"
      ]
     },
     "metadata": {},
     "output_type": "display_data"
    }
   ],
   "source": [
    "training_error = fit.history['val_loss']\n",
    "training_acc = fit.history['val_acc']\n",
    "x_vals = np.arange(1, epoch_count+1)\n",
    "\n",
    "plt.plot(x_vals, training_acc)\n",
    "plt.xlabel(\"Epoch\")\n",
    "plt.ylabel(\"Validation accuracy\")\n",
    "plt.title(\"Validation accuracy by epoch\")"
   ]
  },
  {
   "cell_type": "code",
   "execution_count": 57,
   "metadata": {},
   "outputs": [
    {
     "data": {
      "text/plain": [
       "Text(0.5,1,'Training error by epoch')"
      ]
     },
     "execution_count": 57,
     "metadata": {},
     "output_type": "execute_result"
    },
    {
     "data": {
      "image/png": "[encoded data removed]",
      "text/plain": [
       "<matplotlib.figure.Figure at 0x7fe5cfac0d30>"
      ]
     },
     "metadata": {},
     "output_type": "display_data"
    }
   ],
   "source": [
    "plt.plot(x_vals, training_error)\n",
    "plt.xlabel(\"Epoch\")\n",
    "plt.ylabel(\"Validation error\")\n",
    "plt.title(\"Validation error by epoch\")"
   ]
  },
  {
   "cell_type": "markdown",
   "metadata": {},
   "source": [
    "### ii. Institute dropout"
   ]
  },
  {
   "cell_type": "code",
   "execution_count": 58,
   "metadata": {},
   "outputs": [],
   "source": [
    "# build artchicture with dropout\n",
    "drop_network = models.Sequential()\n",
    "\n",
    "drop_network.add(layers.Dense(512, activation='relu', input_shape=(28 * 28,)))\n",
    "drop_network.add(layers.Dropout(0.5))\n",
    "\"\"\"\n",
    "drop_network.add(layers.Dense(512, activation='relu'))\n",
    "drop_network.add(layers.Dropout(0.5))\n",
    "\n",
    "drop_network.add(layers.Dense(512, activation='relu'))\n",
    "drop_network.add(layers.Dropout(0.5))\n",
    "\n",
    "drop_network.add(layers.Dense(512, activation='relu'))\n",
    "drop_network.add(layers.Dropout(0.5))\n",
    "\n",
    "\"\"\"\n",
    "drop_network.add(layers.Dense(10, activation='softmax'))\n"
   ]
  },
  {
   "cell_type": "code",
   "execution_count": 59,
   "metadata": {},
   "outputs": [
    {
     "name": "stdout",
     "output_type": "stream",
     "text": [
      "Epoch 1/5\n",
      "60000/60000 [==============================] - 43s 721us/step - loss: 2.3016 - categorical_crossentropy: 2.3016 - acc: 0.1115\n",
      "Epoch 2/5\n",
      "60000/60000 [==============================] - 43s 712us/step - loss: 2.3005 - categorical_crossentropy: 2.3005 - acc: 0.1125\n",
      "Epoch 3/5\n",
      "60000/60000 [==============================] - 45s 744us/step - loss: 2.2966 - categorical_crossentropy: 2.2966 - acc: 0.1124\n",
      "Epoch 4/5\n",
      "60000/60000 [==============================] - 45s 755us/step - loss: 2.2864 - categorical_crossentropy: 2.2864 - acc: 0.1335\n",
      "Epoch 5/5\n",
      "60000/60000 [==============================] - 44s 732us/step - loss: 2.2691 - categorical_crossentropy: 2.2691 - acc: 0.1697\n"
     ]
    }
   ],
   "source": [
    "# Fit the model\n",
    "drop_network.compile(optimizer='rmsprop', loss='categorical_crossentropy', metrics=['acc'])\n",
    "drop_fit = drop_network.fit(train_images, train_labels, epochs=epoch_count, batch_size=batchsize, validation_split=split1)"
   ]
  },
  {
   "cell_type": "code",
   "execution_count": 60,
   "metadata": {},
   "outputs": [
    {
     "data": {
      "text/plain": [
       "Text(0.5,1,'Training accuracy by epoch')"
      ]
     },
     "execution_count": 60,
     "metadata": {},
     "output_type": "execute_result"
    },
    {
     "data": {
      "image/png": "[encoded data removed]",
      "text/plain": [
       "<matplotlib.figure.Figure at 0x7fe6171a6ac8>"
      ]
     },
     "metadata": {},
     "output_type": "display_data"
    }
   ],
   "source": [
    "# Plot the training loss\n",
    "drop_training_error = drop_fit.history['val_loss']\n",
    "drop_training_acc = drop_fit.history['val_acc']\n",
    "x_vals = np.arange(1, epoch_count+1)\n",
    "\n",
    "plt.plot(x_vals, drop_training_acc)\n",
    "plt.xlabel(\"Epoch\")\n",
    "plt.ylabel(\"Validation accuracy\")\n",
    "plt.title(\"Validation accuracy by epoch (dropout)\")"
   ]
  },
  {
   "cell_type": "code",
   "execution_count": 61,
   "metadata": {},
   "outputs": [
    {
     "data": {
      "text/plain": [
       "Text(0.5,1,'Training error by epoch (dropout)')"
      ]
     },
     "execution_count": 61,
     "metadata": {},
     "output_type": "execute_result"
    },
    {
     "data": {
      "image/png": "[encoded data removed]",
      "text/plain": [
       "<matplotlib.figure.Figure at 0x7fe6171c0898>"
      ]
     },
     "metadata": {},
     "output_type": "display_data"
    }
   ],
   "source": [
    "plt.plot(x_vals, drop_training_error)\n",
    "plt.xlabel(\"Epoch\")\n",
    "plt.ylabel(\"Validation error\")\n",
    "plt.title(\"Validation error by epoch (dropout)\")"
   ]
  },
  {
   "cell_type": "markdown",
   "metadata": {},
   "source": [
    "### iii. Weight regularization"
   ]
  },
  {
   "cell_type": "code",
   "execution_count": 68,
   "metadata": {},
   "outputs": [],
   "source": [
    "# build artchicture - L1 regularization\n",
    "l1_network = models.Sequential()\n",
    "l1_network.add(layers.Dense(512, activation='relu', kernel_regularizer=l1(0.001), input_shape=(28 * 28,)))\n",
    "\n",
    "'''\n",
    "l1_network.add(layers.Dense(512, kernel_regularizer=l1(0.001), activation='relu'))\n",
    "l1_network.add(layers.Dense(512, kernel_regularizer=l1(0.001), activation='relu'))\n",
    "l1_network.add(layers.Dense(512, kernel_regularizer=l1(0.001), activation='relu'))\n",
    "'''\n",
    "\n",
    "l1_network.add(layers.Dense(10, activation='softmax'))\n",
    "\n",
    "# build artchicture - L2 regularization\n",
    "l2_network = models.Sequential()\n",
    "l2_network.add(layers.Dense(512, activation='relu', kernel_regularizer=l2(0.001), input_shape=(28 * 28,)))\n",
    "\n",
    "'''\n",
    "l1_network.add(layers.Dense(512, kernel_regularizer=l2(0.001), activation='relu'))\n",
    "l1_network.add(layers.Dense(512, kernel_regularizer=l2(0.001), activation='relu'))\n",
    "l1_network.add(layers.Dense(512, kernel_regularizer=l2(0.001), activation='relu'))\n",
    "'''\n",
    "\n",
    "l2_network.add(layers.Dense(10, activation='softmax'))"
   ]
  },
  {
   "cell_type": "code",
   "execution_count": 94,
   "metadata": {},
   "outputs": [],
   "source": [
    "# Fit the model\n",
    "l1_network.compile(optimizer='rmsprop', loss='categorical_crossentropy',  metrics=['acc'])\n",
    "l1_fit = l1_network.fit(train_images, train_labels, epochs=epoch_count, batch_size=batchsize, validation_split=split1)\n",
    "\n",
    "l2_network.compile(optimizer='rmsprop', loss='categorical_crossentropy',  metrics=['acc'])\n",
    "l2_fit = l2_network.fit(train_images, train_labels, epochs=epoch_count, batch_size=batchsize, validation_split=split1)\n"
   ]
  },
  {
   "cell_type": "code",
   "execution_count": 96,
   "metadata": {},
   "outputs": [
    {
     "ename": "KeyError",
     "evalue": "'val_loss'",
     "output_type": "error",
     "traceback": [
      "\u001b[0;31m---------------------------------------------------------------------------\u001b[0m",
      "\u001b[0;31mKeyError\u001b[0m                                  Traceback (most recent call last)",
      "\u001b[0;32m<ipython-input-96-4aad10677361>\u001b[0m in \u001b[0;36m<module>\u001b[0;34m()\u001b[0m\n\u001b[1;32m      1\u001b[0m \u001b[0;31m# Plot the training losses of all 4 models\u001b[0m\u001b[0;34m\u001b[0m\u001b[0;34m\u001b[0m\u001b[0m\n\u001b[0;32m----> 2\u001b[0;31m \u001b[0ml1_training_error\u001b[0m \u001b[0;34m=\u001b[0m \u001b[0ml1_fit\u001b[0m\u001b[0;34m.\u001b[0m\u001b[0mhistory\u001b[0m\u001b[0;34m[\u001b[0m\u001b[0;34m'val_loss'\u001b[0m\u001b[0;34m]\u001b[0m\u001b[0;34m\u001b[0m\u001b[0m\n\u001b[0m\u001b[1;32m      3\u001b[0m \u001b[0ml1_training_acc\u001b[0m \u001b[0;34m=\u001b[0m \u001b[0ml1_fit\u001b[0m\u001b[0;34m.\u001b[0m\u001b[0mhistory\u001b[0m\u001b[0;34m[\u001b[0m\u001b[0;34m'val_acc'\u001b[0m\u001b[0;34m]\u001b[0m\u001b[0;34m\u001b[0m\u001b[0m\n\u001b[1;32m      4\u001b[0m \u001b[0;34m\u001b[0m\u001b[0m\n\u001b[1;32m      5\u001b[0m \u001b[0ml2_training_error\u001b[0m \u001b[0;34m=\u001b[0m \u001b[0ml2_fit\u001b[0m\u001b[0;34m.\u001b[0m\u001b[0mhistory\u001b[0m\u001b[0;34m[\u001b[0m\u001b[0;34m'val_loss'\u001b[0m\u001b[0;34m]\u001b[0m\u001b[0;34m\u001b[0m\u001b[0m\n",
      "\u001b[0;31mKeyError\u001b[0m: 'val_loss'"
     ]
    }
   ],
   "source": [
    "# Plot the training losses of all 4 models\n",
    "l1_training_error = l1_fit.history['val_loss']\n",
    "l1_training_acc = l1_fit.history['val_acc']\n",
    "\n",
    "l2_training_error = l2_fit.history['val_loss']\n",
    "l2_training_acc = l2_fit.history['val_acc']\n"
   ]
  },
  {
   "cell_type": "code",
   "execution_count": 95,
   "metadata": {},
   "outputs": [
    {
     "ename": "NameError",
     "evalue": "name 'drop_training_error' is not defined",
     "output_type": "error",
     "traceback": [
      "\u001b[0;31m---------------------------------------------------------------------------\u001b[0m",
      "\u001b[0;31mNameError\u001b[0m                                 Traceback (most recent call last)",
      "\u001b[0;32m<ipython-input-95-9b82d2833525>\u001b[0m in \u001b[0;36m<module>\u001b[0;34m()\u001b[0m\n\u001b[1;32m      1\u001b[0m \u001b[0;31m# Find min val loss\u001b[0m\u001b[0;34m\u001b[0m\u001b[0;34m\u001b[0m\u001b[0m\n\u001b[1;32m      2\u001b[0m \u001b[0mmain_min\u001b[0m \u001b[0;34m=\u001b[0m \u001b[0mnp\u001b[0m\u001b[0;34m.\u001b[0m\u001b[0mmin\u001b[0m\u001b[0;34m(\u001b[0m\u001b[0mtraining_error\u001b[0m\u001b[0;34m)\u001b[0m\u001b[0;34m\u001b[0m\u001b[0m\n\u001b[0;32m----> 3\u001b[0;31m \u001b[0mdrop_min\u001b[0m \u001b[0;34m=\u001b[0m \u001b[0mnp\u001b[0m\u001b[0;34m.\u001b[0m\u001b[0mmin\u001b[0m\u001b[0;34m(\u001b[0m\u001b[0mdrop_training_error\u001b[0m\u001b[0;34m)\u001b[0m\u001b[0;34m\u001b[0m\u001b[0m\n\u001b[0m\u001b[1;32m      4\u001b[0m \u001b[0ml1_min\u001b[0m \u001b[0;34m=\u001b[0m \u001b[0mnp\u001b[0m\u001b[0;34m.\u001b[0m\u001b[0mmin\u001b[0m\u001b[0;34m(\u001b[0m\u001b[0ml1_training_error\u001b[0m\u001b[0;34m)\u001b[0m\u001b[0;34m\u001b[0m\u001b[0m\n\u001b[1;32m      5\u001b[0m \u001b[0ml2_min\u001b[0m \u001b[0;34m=\u001b[0m \u001b[0mnp\u001b[0m\u001b[0;34m.\u001b[0m\u001b[0mmin\u001b[0m\u001b[0;34m(\u001b[0m\u001b[0ml2_training_error\u001b[0m\u001b[0;34m)\u001b[0m\u001b[0;34m\u001b[0m\u001b[0m\n",
      "\u001b[0;31mNameError\u001b[0m: name 'drop_training_error' is not defined"
     ]
    }
   ],
   "source": [
    "# Find min val loss\n",
    "main_min = np.min(training_error)\n",
    "drop_min = np.min(drop_training_error)\n",
    "l1_min = np.min(l1_training_error)\n",
    "l2_min = np.min(l2_training_error)"
   ]
  },
  {
   "cell_type": "code",
   "execution_count": 99,
   "metadata": {},
   "outputs": [
    {
     "name": "stdout",
     "output_type": "stream",
     "text": [
      "10000/10000 [==============================] - 1s 63us/step\n",
      "Test accuracy: 0.9781\n",
      "Test loss: 0.15520649416693805\n"
     ]
    }
   ],
   "source": [
    "# Find min epoch\n",
    "new_epoch_count =  np.argmin(training_error) + 1\n",
    "\n",
    "test_loss, test_acc = network.evaluate(test_images, test_labels)\n",
    "print(\"Test accuracy:\", test_acc)\n",
    "print(\"Test loss:\", test_loss)"
   ]
  },
  {
   "cell_type": "markdown",
   "metadata": {},
   "source": [
    "# Part 2: Scalar regression"
   ]
  },
  {
   "cell_type": "code",
   "execution_count": 100,
   "metadata": {},
   "outputs": [
    {
     "name": "stdout",
     "output_type": "stream",
     "text": [
      "Downloading data from https://s3.amazonaws.com/keras-datasets/boston_housing.npz\n",
      "57344/57026 [==============================] - 0s 5us/step\n"
     ]
    }
   ],
   "source": [
    "from keras.datasets import boston_housing\n",
    "(train_data, train_targets), (test_data, test_targets) = boston_housing.load_data()\n"
   ]
  },
  {
   "cell_type": "code",
   "execution_count": 108,
   "metadata": {},
   "outputs": [],
   "source": [
    "# Normalize the data\n",
    "mean = train_data.mean(axis=0)\n",
    "train_data -= mean\n",
    "std = train_data.std(axis=0)\n",
    "train_data /= std \n",
    "\n",
    "test_data -= mean\n",
    "test_data /= std"
   ]
  },
  {
   "cell_type": "code",
   "execution_count": 121,
   "metadata": {},
   "outputs": [],
   "source": [
    "def build_model(layer_list):\n",
    "    '''\n",
    "    The layer_list is a list of integers, each denoting a layer to\n",
    "    add with the corresponding number of nodes\n",
    "    '''\n",
    "    model = models.Sequential()\n",
    "    \n",
    "    for node_count in layer_list:\n",
    "        model.add(layers.Dense(node_count, activation='relu', input_shape=(train_data.shape[1],)))\n",
    "    model.add(layers.Dense(1))\n",
    "    model.compile(optimizer='rmsprop', loss='mse', metrics=['mae'])\n",
    "    \n",
    "    return model \n"
   ]
  },
  {
   "cell_type": "code",
   "execution_count": 122,
   "metadata": {},
   "outputs": [],
   "source": [
    "def cross_validate(model_structure):\n",
    "    '''\n",
    "    Given a model structure, returns the avg MSE over 10 k-fold\n",
    "    cross validation training\n",
    "    '''\n",
    "    \n",
    "    kf = KFold(n_splits = k)\n",
    "    cur_fold = 0\n",
    "    for train_index, test_index in kf.split(train_data):\n",
    "        cur_fold +=1 \n",
    "\n",
    "        # Partition the data\n",
    "        x_train, x_test = train_data[train_index], train_data[test_index]\n",
    "        y_train, y_test = train_targets[train_index], train_targets[test_index]\n",
    "\n",
    "        print(\"K-FOLD = {}\".format(cur_fold))\n",
    "\n",
    "        model = build_model(model_structure)\n",
    "        model.fit(x_train, y_train, epochs=num_epochs, batch_size=1, verbose=0)\n",
    "        val_mse, val_mae = model.evaluate(x_test, y_test, verbose=0)\n",
    "        all_scores.append(val_mse)\n",
    "\n",
    "    mean_score = np.mean(all_scores)\n",
    "    return mean_score"
   ]
  },
  {
   "cell_type": "code",
   "execution_count": 127,
   "metadata": {},
   "outputs": [
    {
     "name": "stdout",
     "output_type": "stream",
     "text": [
      "K-FOLD = 1\n",
      "K-FOLD = 2\n",
      "K-FOLD = 3\n",
      "K-FOLD = 4\n"
     ]
    }
   ],
   "source": [
    "from sklearn.model_selection import KFold\n",
    "\n",
    "model_structure = [64]\n",
    "\n",
    "k = 4\n",
    "num_val_samples = len(train_data) // k\n",
    "num_epochs = 2\n",
    "all_scores = []\n",
    "\n",
    "score = cross_validate(model_structure)\n",
    "\n"
   ]
  },
  {
   "cell_type": "code",
   "execution_count": 125,
   "metadata": {},
   "outputs": [
    {
     "data": {
      "text/plain": [
       "75.01831521610222"
      ]
     },
     "execution_count": 125,
     "metadata": {},
     "output_type": "execute_result"
    }
   ],
   "source": [
    "# Use functionality to determine optimal node count, given one layer\n",
    "node_sizes = np.arange(10, 100)\n",
    "scores = []\n",
    "for count in node_sizes:\n",
    "    structure = [count]\n",
    "    score = cross_validate(structure)\n",
    "    scores.append(score)\n",
    "\n",
    "min_mse_size = node_sizes[ np.argmin(scores) ]\n",
    "print(\"With 1 layer optimal node count is:\", min_mse_size)\n",
    "\n",
    "# quick plot of MSE as function of node size\n",
    "plt.plot(node_sizes, scores)\n",
    "plt.show()"
   ]
  },
  {
   "cell_type": "code",
   "execution_count": null,
   "metadata": {},
   "outputs": [],
   "source": []
  }
 ],
 "metadata": {
  "kernelspec": {
   "display_name": "Python 3",
   "language": "python",
   "name": "python3"
  },
  "language_info": {
   "codemirror_mode": {
    "name": "ipython",
    "version": 3
   },
   "file_extension": ".py",
   "mimetype": "text/x-python",
   "name": "python",
   "nbconvert_exporter": "python",
   "pygments_lexer": "ipython3",
   "version": "3.6.4"
  }
 },
 "nbformat": 4,
 "nbformat_minor": 2
}
